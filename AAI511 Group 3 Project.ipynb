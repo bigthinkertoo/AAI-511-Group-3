{
 "cells": [
  {
   "cell_type": "markdown",
   "id": "93ddd87a",
   "metadata": {},
   "source": [
    "The primary objective of this project is to develop a deep learning model that can predict the composer of a given musical score accurately. The project aims to accomplish this objective by using two deep learning techniques: Long Short-Term Memory (LSTM) and Convolutional Neural Network (CNN)."
   ]
  },
  {
   "cell_type": "code",
   "execution_count": 1,
   "id": "c3d11aba",
   "metadata": {},
   "outputs": [],
   "source": [
    "import numpy as np\n",
    "import matplotlib.pyplot as plt\n",
    "import torch\n",
    "import torch.nn as nn\n",
    "import torch.optim as optim\n",
    "from torch.utils.data import DataLoader, TensorDataset\n",
    "import pandas as pd"
   ]
  },
  {
   "cell_type": "markdown",
   "id": "1348afbb",
   "metadata": {},
   "source": [
    "Data Collection\n",
    "The dataset contains the midi files of compositions from well-known classical composers like Bach, Beethoven, Chopin, and Mozart. The dataset has been labeled with the name of the composer for each score. Predictions are performed for only the below composers:\n",
    "\n",
    "1-Bach\n",
    "\n",
    "2-Beethoven\n",
    "\n",
    "3-Chopin\n",
    "\n",
    "4-Mozart"
   ]
  },
  {
   "cell_type": "code",
   "execution_count": 2,
   "id": "76171d1a",
   "metadata": {},
   "outputs": [
    {
     "name": "stdout",
     "output_type": "stream",
     "text": [
      "Defaulting to user installation because normal site-packages is not writeableNote: you may need to restart the kernel to use updated packages.\n",
      "\n",
      "Collecting kagglehub\n",
      "  Downloading kagglehub-0.3.12-py3-none-any.whl.metadata (38 kB)\n",
      "Requirement already satisfied: packaging in e:\\programdata\\anaconda3\\lib\\site-packages (from kagglehub) (24.1)\n",
      "Requirement already satisfied: pyyaml in e:\\programdata\\anaconda3\\lib\\site-packages (from kagglehub) (6.0.1)\n",
      "Requirement already satisfied: requests in e:\\programdata\\anaconda3\\lib\\site-packages (from kagglehub) (2.32.3)\n",
      "Requirement already satisfied: tqdm in e:\\programdata\\anaconda3\\lib\\site-packages (from kagglehub) (4.66.4)\n",
      "Requirement already satisfied: charset-normalizer<4,>=2 in e:\\programdata\\anaconda3\\lib\\site-packages (from requests->kagglehub) (3.3.2)\n",
      "Requirement already satisfied: idna<4,>=2.5 in e:\\programdata\\anaconda3\\lib\\site-packages (from requests->kagglehub) (3.7)\n",
      "Requirement already satisfied: urllib3<3,>=1.21.1 in e:\\programdata\\anaconda3\\lib\\site-packages (from requests->kagglehub) (2.2.2)\n",
      "Requirement already satisfied: certifi>=2017.4.17 in e:\\programdata\\anaconda3\\lib\\site-packages (from requests->kagglehub) (2024.7.4)\n",
      "Requirement already satisfied: colorama in e:\\programdata\\anaconda3\\lib\\site-packages (from tqdm->kagglehub) (0.4.6)\n",
      "Downloading kagglehub-0.3.12-py3-none-any.whl (67 kB)\n",
      "Installing collected packages: kagglehub\n",
      "Successfully installed kagglehub-0.3.12\n",
      "Downloading from https://www.kaggle.com/api/v1/datasets/download/blanderbuss/midi-classic-music?dataset_version_number=1...\n"
     ]
    },
    {
     "name": "stderr",
     "output_type": "stream",
     "text": [
      "100%|██████████| 68.2M/68.2M [00:11<00:00, 6.11MB/s]"
     ]
    },
    {
     "name": "stdout",
     "output_type": "stream",
     "text": [
      "Extracting files...\n"
     ]
    },
    {
     "name": "stderr",
     "output_type": "stream",
     "text": [
      "\n"
     ]
    },
    {
     "name": "stdout",
     "output_type": "stream",
     "text": [
      "Path to dataset files: C:\\Users\\jim.mccarthy\\.cache\\kagglehub\\datasets\\blanderbuss\\midi-classic-music\\versions\\1\n"
     ]
    }
   ],
   "source": [
    "%pip install kagglehub\n",
    "\n",
    "import kagglehub\n",
    "\n",
    "# Download latest version\n",
    "path = kagglehub.dataset_download(\"blanderbuss/midi-classic-music\")\n",
    "\n",
    "print(\"Path to dataset files:\", path)"
   ]
  },
  {
   "cell_type": "code",
   "execution_count": null,
   "id": "de884095",
   "metadata": {},
   "outputs": [
    {
     "name": "stdout",
     "output_type": "stream",
     "text": [
      "Found MIDI file: C.P.E.Bach Solfeggieto.mid\n",
      "Found MIDI file: Liszt Bach Prelude Transcription.mid\n",
      "Found MIDI file: Piano version of Bachs two part inventions No...mid\n",
      "Found MIDI file: Piano version of Bachs two part inventions No.1.mid\n",
      "Found MIDI file: Piano version of Bachs two part inventions No.10.mid\n",
      "Found MIDI file: Piano version of Bachs two part inventions No.11.mid\n",
      "Found MIDI file: Piano version of Bachs two part inventions No.12.mid\n",
      "Found MIDI file: Piano version of Bachs two part inventions No.13.mid\n",
      "Found MIDI file: Piano version of Bachs two part inventions No.14.mid\n",
      "Found MIDI file: Piano version of Bachs two part inventions No.15.mid\n",
      "Found MIDI file: Piano version of Bachs two part inventions No.2.mid\n",
      "Found MIDI file: Piano version of Bachs two part inventions No.3.mid\n",
      "Found MIDI file: Piano version of Bachs two part inventions No.4.mid\n",
      "Found MIDI file: Piano version of Bachs two part inventions No.5.mid\n",
      "Found MIDI file: Piano version of Bachs two part inventions No.6.mid\n",
      "Found MIDI file: Piano version of Bachs two part inventions No.7.mid\n",
      "Found MIDI file: Piano version of Bachs two part inventions No.8.mid\n",
      "Found MIDI file: Piano version of Bachs two part inventions No.9.mid\n",
      "Found MIDI file: Fantasia Nach J. S. Bach.mid\n",
      "Found MIDI file: Six variations on Bach No.1.mid\n",
      "Found MIDI file: Six variations on Bach No.3.mid\n",
      "Found MIDI file: bach.mid\n",
      "Found MIDI file: bach0.mid\n",
      "Found MIDI file: bach12a.mid\n",
      "Found MIDI file: bach197c.mid\n",
      "Found MIDI file: bach2.mid\n",
      "Found MIDI file: bachaire.mid\n",
      "Found MIDI file: bachg.mid\n",
      "Found MIDI file: bachinv.mid\n",
      "Found MIDI file: bachlein.mid\n",
      "Found MIDI file: bachmen6.mid\n",
      "Found MIDI file: bachmen7.mid\n",
      "Found MIDI file: bachpart.mid\n",
      "Found MIDI file: bachpfam.mid\n",
      "Found MIDI file: bachto.mid\n",
      "Found MIDI file: bach_1.mid\n",
      "Found MIDI file: bach_10p.mid\n",
      "Found MIDI file: bach_13p.mid\n",
      "Found MIDI file: bach_14.mid\n",
      "Found MIDI file: bach_4.mid\n",
      "Found MIDI file: bach_4p.mid\n"
     ]
    }
   ],
   "source": [
    "import os\n",
    "\n",
    "# List all files in the dataset path\n",
    "for root, dirs, files in os.walk(path):\n",
    "    for file in files:\n",
    "        #print(os.path.join(root, file))\n",
    "        # Check if the file is a MIDI file and contains 'bach' in its name.\n",
    "        # There are other composers that need to be processed too.\n",
    "        if (file.endswith('.mid') or file.endswith('.midi')) and 'bach' in file.lower():\n",
    "            print(f\"Found MIDI file: {file}\")\n",
    "            # Add file to Bach dataset processing logic here\n",
    "            "
   ]
  },
  {
   "cell_type": "markdown",
   "id": "b1a8eac3",
   "metadata": {},
   "source": [
    "Convert MIDI file to something useful for LSTM and CNN."
   ]
  },
  {
   "cell_type": "code",
   "execution_count": null,
   "id": "fb11fd45",
   "metadata": {},
   "outputs": [],
   "source": []
  },
  {
   "cell_type": "markdown",
   "id": "fca6f3a3",
   "metadata": {},
   "source": [
    "Data Pre-processing: Convert the musical scores into a format suitable for deep learning models. This involves converting the musical scores into MIDI files and applying data augmentation techniques.\n"
   ]
  },
  {
   "cell_type": "code",
   "execution_count": null,
   "id": "a45566f1",
   "metadata": {},
   "outputs": [],
   "source": []
  },
  {
   "cell_type": "markdown",
   "id": "9d98cff0",
   "metadata": {},
   "source": [
    "Feature Extraction: Extract features from the MIDI files, such as notes, chords, and tempo, using music analysis tools.\n"
   ]
  },
  {
   "cell_type": "code",
   "execution_count": null,
   "id": "938670e2",
   "metadata": {},
   "outputs": [
    {
     "ename": "IndentationError",
     "evalue": "expected an indented block after 'if' statement on line 8 (1443835445.py, line 10)",
     "output_type": "error",
     "traceback": [
      "\u001b[1;36m  Cell \u001b[1;32mIn[1], line 10\u001b[1;36m\u001b[0m\n\u001b[1;33m    elif isinstance(el, chord.Chord):\u001b[0m\n\u001b[1;37m    ^\u001b[0m\n\u001b[1;31mIndentationError\u001b[0m\u001b[1;31m:\u001b[0m expected an indented block after 'if' statement on line 8\n"
     ]
    }
   ],
   "source": [
    "%pip install music21\n",
    "#or\n",
    "# %pip install pretty_midi\n",
    "# Example of how to process MIDI files using music21\n",
    "from music21 import converter, note, chord, tempo\n",
    "\n",
    "# Load a MIDI file. # Replace 'file.mid' with the path to your MIDI file.\n",
    "score = converter.parse('file.mid')\n",
    "for el in score.flat:\n",
    "    if isinstance(el, note.Note):\n",
    "        # el.pitch, el.duration.quarterLength, el.offset\n",
    "    elif isinstance(el, chord.Chord):\n",
    "        # el.pitches, el.duration\n",
    "    elif isinstance(el, tempo.MetronomeMark):\n",
    "        # el.number\n",
    "    "
   ]
  },
  {
   "cell_type": "markdown",
   "id": "9514fe3c",
   "metadata": {},
   "source": [
    "Model Building: Develop a deep learning model using LSTM and CNN architectures to classify the musical scores according to the composer.\n"
   ]
  },
  {
   "cell_type": "code",
   "execution_count": null,
   "id": "ba1b6969",
   "metadata": {},
   "outputs": [],
   "source": []
  },
  {
   "cell_type": "markdown",
   "id": "e26b825f",
   "metadata": {},
   "source": [
    "Model Training: Train the deep learning model using the pre-processed and feature-extracted data.\n"
   ]
  },
  {
   "cell_type": "code",
   "execution_count": null,
   "id": "f15c65da",
   "metadata": {},
   "outputs": [],
   "source": []
  },
  {
   "cell_type": "markdown",
   "id": "c51863c3",
   "metadata": {},
   "source": [
    "Model Evaluation: Evaluate the performance of the deep learning model using accuracy, precision, and recall metrics.\n"
   ]
  },
  {
   "cell_type": "code",
   "execution_count": null,
   "id": "ad55a6b9",
   "metadata": {},
   "outputs": [],
   "source": []
  },
  {
   "cell_type": "markdown",
   "id": "63a7f955",
   "metadata": {},
   "source": [
    "Model Optimization: Optimize the deep learning model by fine-tuning hyperparameters."
   ]
  },
  {
   "cell_type": "code",
   "execution_count": null,
   "id": "180e4eec",
   "metadata": {},
   "outputs": [],
   "source": []
  }
 ],
 "metadata": {
  "kernelspec": {
   "display_name": "base",
   "language": "python",
   "name": "python3"
  },
  "language_info": {
   "codemirror_mode": {
    "name": "ipython",
    "version": 3
   },
   "file_extension": ".py",
   "mimetype": "text/x-python",
   "name": "python",
   "nbconvert_exporter": "python",
   "pygments_lexer": "ipython3",
   "version": "3.11.5"
  }
 },
 "nbformat": 4,
 "nbformat_minor": 5
}
